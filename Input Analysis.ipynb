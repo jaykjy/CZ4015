{
 "cells": [
  {
   "cell_type": "markdown",
   "id": "f1a6c85d",
   "metadata": {},
   "source": [
    "### Importing libraries"
   ]
  },
  {
   "cell_type": "code",
   "execution_count": 1,
   "id": "88ab7c66",
   "metadata": {},
   "outputs": [],
   "source": [
    "import pandas as pd\n",
    "import seaborn as sb\n",
    "import matplotlib.pyplot as plt\n",
    "import numpy as np\n",
    "import math\n",
    "import scipy.stats as stats\n",
    "from statistics import NormalDist"
   ]
  },
  {
   "cell_type": "code",
   "execution_count": 2,
   "id": "798c9e53",
   "metadata": {
    "scrolled": true
   },
   "outputs": [
    {
     "data": {
      "text/html": [
       "<div>\n",
       "<style scoped>\n",
       "    .dataframe tbody tr th:only-of-type {\n",
       "        vertical-align: middle;\n",
       "    }\n",
       "\n",
       "    .dataframe tbody tr th {\n",
       "        vertical-align: top;\n",
       "    }\n",
       "\n",
       "    .dataframe thead th {\n",
       "        text-align: right;\n",
       "    }\n",
       "</style>\n",
       "<table border=\"1\" class=\"dataframe\">\n",
       "  <thead>\n",
       "    <tr style=\"text-align: right;\">\n",
       "      <th></th>\n",
       "      <th>Arrival no</th>\n",
       "      <th>Arrival time (sec)</th>\n",
       "      <th>Base station</th>\n",
       "      <th>Base station pair</th>\n",
       "      <th>Call duration (sec)</th>\n",
       "      <th>Call duration pair (sec)</th>\n",
       "      <th>velocity (km/h)</th>\n",
       "      <th>velocity pair (km/h)</th>\n",
       "      <th>inter-arrival time (sec)</th>\n",
       "      <th>inter-arrival time pair (sec)</th>\n",
       "    </tr>\n",
       "  </thead>\n",
       "  <tbody>\n",
       "    <tr>\n",
       "      <th>0</th>\n",
       "      <td>1</td>\n",
       "      <td>0.000</td>\n",
       "      <td>18</td>\n",
       "      <td>7.0</td>\n",
       "      <td>76.134</td>\n",
       "      <td>159.056</td>\n",
       "      <td>125.934</td>\n",
       "      <td>95.511</td>\n",
       "      <td>0.000</td>\n",
       "      <td>0.068</td>\n",
       "    </tr>\n",
       "    <tr>\n",
       "      <th>1</th>\n",
       "      <td>2</td>\n",
       "      <td>0.068</td>\n",
       "      <td>7</td>\n",
       "      <td>6.0</td>\n",
       "      <td>159.056</td>\n",
       "      <td>179.465</td>\n",
       "      <td>95.511</td>\n",
       "      <td>127.757</td>\n",
       "      <td>0.068</td>\n",
       "      <td>0.491</td>\n",
       "    </tr>\n",
       "    <tr>\n",
       "      <th>2</th>\n",
       "      <td>3</td>\n",
       "      <td>0.559</td>\n",
       "      <td>6</td>\n",
       "      <td>14.0</td>\n",
       "      <td>179.465</td>\n",
       "      <td>163.108</td>\n",
       "      <td>127.757</td>\n",
       "      <td>134.311</td>\n",
       "      <td>0.491</td>\n",
       "      <td>0.066</td>\n",
       "    </tr>\n",
       "    <tr>\n",
       "      <th>3</th>\n",
       "      <td>4</td>\n",
       "      <td>0.625</td>\n",
       "      <td>14</td>\n",
       "      <td>2.0</td>\n",
       "      <td>163.108</td>\n",
       "      <td>95.054</td>\n",
       "      <td>134.311</td>\n",
       "      <td>112.272</td>\n",
       "      <td>0.066</td>\n",
       "      <td>0.720</td>\n",
       "    </tr>\n",
       "    <tr>\n",
       "      <th>4</th>\n",
       "      <td>5</td>\n",
       "      <td>1.345</td>\n",
       "      <td>2</td>\n",
       "      <td>4.0</td>\n",
       "      <td>95.054</td>\n",
       "      <td>12.987</td>\n",
       "      <td>112.272</td>\n",
       "      <td>121.186</td>\n",
       "      <td>0.720</td>\n",
       "      <td>0.243</td>\n",
       "    </tr>\n",
       "  </tbody>\n",
       "</table>\n",
       "</div>"
      ],
      "text/plain": [
       "   Arrival no  Arrival time (sec)  Base station   Base station pair  \\\n",
       "0           1               0.000             18                7.0   \n",
       "1           2               0.068              7                6.0   \n",
       "2           3               0.559              6               14.0   \n",
       "3           4               0.625             14                2.0   \n",
       "4           5               1.345              2                4.0   \n",
       "\n",
       "   Call duration (sec)  Call duration pair (sec)  velocity (km/h)  \\\n",
       "0               76.134                   159.056          125.934   \n",
       "1              159.056                   179.465           95.511   \n",
       "2              179.465                   163.108          127.757   \n",
       "3              163.108                    95.054          134.311   \n",
       "4               95.054                    12.987          112.272   \n",
       "\n",
       "   velocity pair (km/h)  inter-arrival time (sec)  \\\n",
       "0                95.511                     0.000   \n",
       "1               127.757                     0.068   \n",
       "2               134.311                     0.491   \n",
       "3               112.272                     0.066   \n",
       "4               121.186                     0.720   \n",
       "\n",
       "   inter-arrival time pair (sec)  \n",
       "0                          0.068  \n",
       "1                          0.491  \n",
       "2                          0.066  \n",
       "3                          0.720  \n",
       "4                          0.243  "
      ]
     },
     "execution_count": 2,
     "metadata": {},
     "output_type": "execute_result"
    }
   ],
   "source": [
    "df = pd.read_csv(\"PCS_TEST_DETERMINSTIC.csv\")\n",
    "df.head()"
   ]
  },
  {
   "cell_type": "markdown",
   "id": "5ba0ef3d",
   "metadata": {},
   "source": [
    "### Inter-arrival time plots"
   ]
  },
  {
   "cell_type": "code",
   "execution_count": 3,
   "id": "372e7b61",
   "metadata": {},
   "outputs": [
    {
     "data": {
      "image/png": "[encoded data removed]",
      "text/plain": [
       "<Figure size 432x288 with 1 Axes>"
      ]
     },
     "metadata": {
      "needs_background": "light"
     },
     "output_type": "display_data"
    }
   ],
   "source": [
    "sb.scatterplot(data = df, x = \"inter-arrival time (sec)\", y = \"inter-arrival time pair (sec)\")\n",
    "plt.xlabel(\"Inter-arrival time, i\")\n",
    "plt.ylabel(\"Inter-arrival time, i+1\")\n",
    "plt.show()"
   ]
  },
  {
   "cell_type": "code",
   "execution_count": 4,
   "id": "097023be",
   "metadata": {},
   "outputs": [
    {
     "data": {
      "image/png": "[encoded data removed]",
      "text/plain": [
       "<Figure size 432x288 with 1 Axes>"
      ]
     },
     "metadata": {
      "needs_background": "light"
     },
     "output_type": "display_data"
    }
   ],
   "source": [
    "fig = sb.histplot(data = df, x = \"inter-arrival time (sec)\", bins = 100)\n",
    "plt.show()"
   ]
  },
  {
   "cell_type": "code",
   "execution_count": 5,
   "id": "1467619e",
   "metadata": {
    "scrolled": false
   },
   "outputs": [
    {
     "data": {
      "text/plain": [
       "count    10000.000000\n",
       "mean         1.369683\n",
       "std          1.343925\n",
       "min          0.000000\n",
       "25%          0.408000\n",
       "50%          0.961500\n",
       "75%          1.892000\n",
       "max         12.499000\n",
       "Name: inter-arrival time (sec), dtype: float64"
      ]
     },
     "execution_count": 5,
     "metadata": {},
     "output_type": "execute_result"
    }
   ],
   "source": [
    "df[\"inter-arrival time (sec)\"].describe()"
   ]
  },
  {
   "cell_type": "markdown",
   "id": "8f06b8d3",
   "metadata": {},
   "source": [
    "### Base station plots"
   ]
  },
  {
   "cell_type": "code",
   "execution_count": 6,
   "id": "d6a2c313",
   "metadata": {},
   "outputs": [
    {
     "data": {
      "image/png": "[encoded data removed]",
      "text/plain": [
       "<Figure size 432x288 with 1 Axes>"
      ]
     },
     "metadata": {
      "needs_background": "light"
     },
     "output_type": "display_data"
    }
   ],
   "source": [
    "sb.scatterplot(data = df, x = df.iloc[:,2], y = df.iloc[:,3])\n",
    "plt.xlabel(\"Base station, i\")\n",
    "plt.ylabel(\"Base station, i+1\")\n",
    "plt.show()"
   ]
  },
  {
   "cell_type": "code",
   "execution_count": 7,
   "id": "22be39e8",
   "metadata": {
    "scrolled": true
   },
   "outputs": [
    {
     "data": {
      "image/png": "[encoded data removed]",
      "text/plain": [
       "<Figure size 432x288 with 1 Axes>"
      ]
     },
     "metadata": {
      "needs_background": "light"
     },
     "output_type": "display_data"
    }
   ],
   "source": [
    "sb.histplot(data = df, x = df.iloc[:,2], bins = 20)\n",
    "plt.show()"
   ]
  },
  {
   "cell_type": "code",
   "execution_count": 8,
   "id": "dfe91ce0",
   "metadata": {
    "scrolled": true
   },
   "outputs": [
    {
     "data": {
      "text/plain": [
       "count    10000.00000\n",
       "mean        10.54220\n",
       "std          5.78662\n",
       "min          1.00000\n",
       "25%          6.00000\n",
       "50%         11.00000\n",
       "75%         16.00000\n",
       "max         20.00000\n",
       "Name: Base station , dtype: float64"
      ]
     },
     "execution_count": 8,
     "metadata": {},
     "output_type": "execute_result"
    }
   ],
   "source": [
    "df.iloc[:,2].describe()"
   ]
  },
  {
   "cell_type": "markdown",
   "id": "a6294b06",
   "metadata": {},
   "source": [
    "### Call duration plots"
   ]
  },
  {
   "cell_type": "code",
   "execution_count": 9,
   "id": "50220f6c",
   "metadata": {},
   "outputs": [
    {
     "data": {
      "image/png": "[encoded data removed]",
      "text/plain": [
       "<Figure size 432x288 with 1 Axes>"
      ]
     },
     "metadata": {
      "needs_background": "light"
     },
     "output_type": "display_data"
    }
   ],
   "source": [
    "sb.scatterplot(data = df, x = \"Call duration (sec)\", y = \"Call duration pair (sec)\")\n",
    "plt.xlabel(\"Call duration, i\")\n",
    "plt.ylabel(\"Call duration, i+1\")\n",
    "plt.show()"
   ]
  },
  {
   "cell_type": "code",
   "execution_count": 10,
   "id": "f5682a92",
   "metadata": {
    "scrolled": true
   },
   "outputs": [
    {
     "data": {
      "image/png": "[encoded data removed]",
      "text/plain": [
       "<Figure size 432x288 with 1 Axes>"
      ]
     },
     "metadata": {
      "needs_background": "light"
     },
     "output_type": "display_data"
    }
   ],
   "source": [
    "sb.histplot(data = df, x = \"Call duration (sec)\", bins = 100)\n",
    "plt.show()"
   ]
  },
  {
   "cell_type": "code",
   "execution_count": 11,
   "id": "0ffeef19",
   "metadata": {},
   "outputs": [
    {
     "data": {
      "text/plain": [
       "count    10000.000000\n",
       "mean       109.835897\n",
       "std         99.138915\n",
       "min         10.004000\n",
       "25%         38.777750\n",
       "50%         79.937500\n",
       "75%        148.109500\n",
       "max       1239.836000\n",
       "Name: Call duration (sec), dtype: float64"
      ]
     },
     "execution_count": 11,
     "metadata": {},
     "output_type": "execute_result"
    }
   ],
   "source": [
    "df[\"Call duration (sec)\"].describe()"
   ]
  },
  {
   "cell_type": "markdown",
   "id": "70f22041",
   "metadata": {},
   "source": [
    "### Velocity plots"
   ]
  },
  {
   "cell_type": "code",
   "execution_count": 12,
   "id": "03e247fc",
   "metadata": {},
   "outputs": [
    {
     "data": {
      "image/png": "[encoded data removed]",
      "text/plain": [
       "<Figure size 432x288 with 1 Axes>"
      ]
     },
     "metadata": {
      "needs_background": "light"
     },
     "output_type": "display_data"
    }
   ],
   "source": [
    "sb.scatterplot(data = df, x = \"velocity (km/h)\", y = \"velocity pair (km/h)\")\n",
    "plt.xlabel(\"Velocity, i\")\n",
    "plt.ylabel(\"Velocity, i+1\")\n",
    "plt.show()"
   ]
  },
  {
   "cell_type": "code",
   "execution_count": 13,
   "id": "03e1077e",
   "metadata": {
    "scrolled": true
   },
   "outputs": [
    {
     "data": {
      "image/png": "[encoded data removed]",
      "text/plain": [
       "<Figure size 432x288 with 1 Axes>"
      ]
     },
     "metadata": {
      "needs_background": "light"
     },
     "output_type": "display_data"
    }
   ],
   "source": [
    "sb.histplot(data = df, x = \"velocity (km/h)\", bins = 100)\n",
    "plt.show()"
   ]
  },
  {
   "cell_type": "code",
   "execution_count": 14,
   "id": "ca47b474",
   "metadata": {},
   "outputs": [
    {
     "data": {
      "text/plain": [
       "count    10000.000000\n",
       "mean       120.072095\n",
       "std          9.019056\n",
       "min         86.423000\n",
       "25%        113.892500\n",
       "50%        120.021500\n",
       "75%        126.188250\n",
       "max        151.501000\n",
       "Name: velocity (km/h), dtype: float64"
      ]
     },
     "execution_count": 14,
     "metadata": {},
     "output_type": "execute_result"
    }
   ],
   "source": [
    "df[\"velocity (km/h)\"].describe()"
   ]
  },
  {
   "cell_type": "markdown",
   "id": "a3a6e52e",
   "metadata": {},
   "source": [
    "### Inter-arrival time Chi-Square Test"
   ]
  },
  {
   "cell_type": "code",
   "execution_count": 15,
   "id": "c7a7c7a5",
   "metadata": {
    "scrolled": false
   },
   "outputs": [
    {
     "data": {
      "text/html": [
       "<div>\n",
       "<style scoped>\n",
       "    .dataframe tbody tr th:only-of-type {\n",
       "        vertical-align: middle;\n",
       "    }\n",
       "\n",
       "    .dataframe tbody tr th {\n",
       "        vertical-align: top;\n",
       "    }\n",
       "\n",
       "    .dataframe thead th {\n",
       "        text-align: right;\n",
       "    }\n",
       "</style>\n",
       "<table border=\"1\" class=\"dataframe\">\n",
       "  <thead>\n",
       "    <tr style=\"text-align: right;\">\n",
       "      <th></th>\n",
       "      <th>Arrival no</th>\n",
       "      <th>Arrival time (sec)</th>\n",
       "      <th>Base station</th>\n",
       "      <th>Base station pair</th>\n",
       "      <th>Call duration (sec)</th>\n",
       "      <th>Call duration pair (sec)</th>\n",
       "      <th>velocity (km/h)</th>\n",
       "      <th>velocity pair (km/h)</th>\n",
       "      <th>inter-arrival time (sec)</th>\n",
       "      <th>inter-arrival time pair (sec)</th>\n",
       "    </tr>\n",
       "  </thead>\n",
       "  <tbody>\n",
       "    <tr>\n",
       "      <th>0</th>\n",
       "      <td>1</td>\n",
       "      <td>0.000</td>\n",
       "      <td>18</td>\n",
       "      <td>7.0</td>\n",
       "      <td>76.134</td>\n",
       "      <td>159.056</td>\n",
       "      <td>125.934</td>\n",
       "      <td>95.511</td>\n",
       "      <td>0.000</td>\n",
       "      <td>0.068</td>\n",
       "    </tr>\n",
       "    <tr>\n",
       "      <th>1</th>\n",
       "      <td>2</td>\n",
       "      <td>0.068</td>\n",
       "      <td>7</td>\n",
       "      <td>6.0</td>\n",
       "      <td>159.056</td>\n",
       "      <td>179.465</td>\n",
       "      <td>95.511</td>\n",
       "      <td>127.757</td>\n",
       "      <td>0.068</td>\n",
       "      <td>0.491</td>\n",
       "    </tr>\n",
       "    <tr>\n",
       "      <th>2</th>\n",
       "      <td>3</td>\n",
       "      <td>0.559</td>\n",
       "      <td>6</td>\n",
       "      <td>14.0</td>\n",
       "      <td>179.465</td>\n",
       "      <td>163.108</td>\n",
       "      <td>127.757</td>\n",
       "      <td>134.311</td>\n",
       "      <td>0.491</td>\n",
       "      <td>0.066</td>\n",
       "    </tr>\n",
       "    <tr>\n",
       "      <th>3</th>\n",
       "      <td>4</td>\n",
       "      <td>0.625</td>\n",
       "      <td>14</td>\n",
       "      <td>2.0</td>\n",
       "      <td>163.108</td>\n",
       "      <td>95.054</td>\n",
       "      <td>134.311</td>\n",
       "      <td>112.272</td>\n",
       "      <td>0.066</td>\n",
       "      <td>0.720</td>\n",
       "    </tr>\n",
       "    <tr>\n",
       "      <th>4</th>\n",
       "      <td>5</td>\n",
       "      <td>1.345</td>\n",
       "      <td>2</td>\n",
       "      <td>4.0</td>\n",
       "      <td>95.054</td>\n",
       "      <td>12.987</td>\n",
       "      <td>112.272</td>\n",
       "      <td>121.186</td>\n",
       "      <td>0.720</td>\n",
       "      <td>0.243</td>\n",
       "    </tr>\n",
       "  </tbody>\n",
       "</table>\n",
       "</div>"
      ],
      "text/plain": [
       "   Arrival no  Arrival time (sec)  Base station   Base station pair  \\\n",
       "0           1               0.000             18                7.0   \n",
       "1           2               0.068              7                6.0   \n",
       "2           3               0.559              6               14.0   \n",
       "3           4               0.625             14                2.0   \n",
       "4           5               1.345              2                4.0   \n",
       "\n",
       "   Call duration (sec)  Call duration pair (sec)  velocity (km/h)  \\\n",
       "0               76.134                   159.056          125.934   \n",
       "1              159.056                   179.465           95.511   \n",
       "2              179.465                   163.108          127.757   \n",
       "3              163.108                    95.054          134.311   \n",
       "4               95.054                    12.987          112.272   \n",
       "\n",
       "   velocity pair (km/h)  inter-arrival time (sec)  \\\n",
       "0                95.511                     0.000   \n",
       "1               127.757                     0.068   \n",
       "2               134.311                     0.491   \n",
       "3               112.272                     0.066   \n",
       "4               121.186                     0.720   \n",
       "\n",
       "   inter-arrival time pair (sec)  \n",
       "0                          0.068  \n",
       "1                          0.491  \n",
       "2                          0.066  \n",
       "3                          0.720  \n",
       "4                          0.243  "
      ]
     },
     "execution_count": 15,
     "metadata": {},
     "output_type": "execute_result"
    }
   ],
   "source": [
    "df.head()"
   ]
  },
  {
   "cell_type": "code",
   "execution_count": 16,
   "id": "f1c93c46",
   "metadata": {},
   "outputs": [],
   "source": [
    "n = 10000\n",
    "k = int(math.sqrt(n))\n",
    "s = 1\n",
    "d = k - s - 1\n",
    "p = 1 / k\n",
    "expected = n * p\n",
    "beta = df[\"inter-arrival time (sec)\"].mean()"
   ]
  },
  {
   "cell_type": "code",
   "execution_count": 17,
   "id": "b0152a10",
   "metadata": {},
   "outputs": [],
   "source": [
    "end_points = [0]\n",
    "\n",
    "for i in range(k - 1):\n",
    "    a = beta * np.log(1 / (1 - (i + 1) * p))\n",
    "    end_points.append(a)\n",
    "    \n",
    "end_points.append(float('inf'))"
   ]
  },
  {
   "cell_type": "code",
   "execution_count": 18,
   "id": "9815270a",
   "metadata": {},
   "outputs": [
    {
     "data": {
      "text/plain": [
       "array([ 99.,  90.,  93.,  97., 104.,  90., 103.,  89., 101.,  94., 103.,\n",
       "        94.,  97.,  99., 102.,  90.,  98., 108.,  98.,  96.,  90., 111.,\n",
       "        97., 101.,  93.,  93.,  95., 102., 106.,  93.,  81.,  98.,  97.,\n",
       "       116., 102., 105.,  95., 101., 113., 111., 101., 125., 102.,  85.,\n",
       "        86.,  90., 109., 109., 112.,  96.,  93.,  87., 105., 101., 106.,\n",
       "        90.,  93., 107., 104., 138.,  88.,  91., 103., 104., 100., 111.,\n",
       "       110., 108., 109.,  94., 119., 105.,  87.,  99.,  97.,  90., 110.,\n",
       "       117.,  75.,  91.,  92.,  81., 105., 105.,  94., 129.,  98., 111.,\n",
       "       116., 102., 111.,  86., 101.,  79., 105., 114.,  89., 111.,  98.,\n",
       "        81.])"
      ]
     },
     "execution_count": 18,
     "metadata": {},
     "output_type": "execute_result"
    }
   ],
   "source": [
    "observed = np.zeros(k)\n",
    "data = df[\"inter-arrival time (sec)\"]\n",
    "\n",
    "for i in range(1, len(end_points) + 1): # 1 to 101 instead of 0 to 100\n",
    "    for j in data:\n",
    "        if end_points[i - 1] <= j < end_points[i]:\n",
    "            observed[i - 1] += 1\n",
    "            \n",
    "observed"
   ]
  },
  {
   "cell_type": "code",
   "execution_count": 19,
   "id": "82a6ac74",
   "metadata": {},
   "outputs": [
    {
     "data": {
      "text/html": [
       "<div>\n",
       "<style scoped>\n",
       "    .dataframe tbody tr th:only-of-type {\n",
       "        vertical-align: middle;\n",
       "    }\n",
       "\n",
       "    .dataframe tbody tr th {\n",
       "        vertical-align: top;\n",
       "    }\n",
       "\n",
       "    .dataframe thead th {\n",
       "        text-align: right;\n",
       "    }\n",
       "</style>\n",
       "<table border=\"1\" class=\"dataframe\">\n",
       "  <thead>\n",
       "    <tr style=\"text-align: right;\">\n",
       "      <th></th>\n",
       "      <th>Observed</th>\n",
       "      <th>Expected</th>\n",
       "    </tr>\n",
       "  </thead>\n",
       "  <tbody>\n",
       "    <tr>\n",
       "      <th>0</th>\n",
       "      <td>99.0</td>\n",
       "      <td>100.0</td>\n",
       "    </tr>\n",
       "    <tr>\n",
       "      <th>1</th>\n",
       "      <td>90.0</td>\n",
       "      <td>100.0</td>\n",
       "    </tr>\n",
       "    <tr>\n",
       "      <th>2</th>\n",
       "      <td>93.0</td>\n",
       "      <td>100.0</td>\n",
       "    </tr>\n",
       "    <tr>\n",
       "      <th>3</th>\n",
       "      <td>97.0</td>\n",
       "      <td>100.0</td>\n",
       "    </tr>\n",
       "    <tr>\n",
       "      <th>4</th>\n",
       "      <td>104.0</td>\n",
       "      <td>100.0</td>\n",
       "    </tr>\n",
       "    <tr>\n",
       "      <th>...</th>\n",
       "      <td>...</td>\n",
       "      <td>...</td>\n",
       "    </tr>\n",
       "    <tr>\n",
       "      <th>95</th>\n",
       "      <td>114.0</td>\n",
       "      <td>100.0</td>\n",
       "    </tr>\n",
       "    <tr>\n",
       "      <th>96</th>\n",
       "      <td>89.0</td>\n",
       "      <td>100.0</td>\n",
       "    </tr>\n",
       "    <tr>\n",
       "      <th>97</th>\n",
       "      <td>111.0</td>\n",
       "      <td>100.0</td>\n",
       "    </tr>\n",
       "    <tr>\n",
       "      <th>98</th>\n",
       "      <td>98.0</td>\n",
       "      <td>100.0</td>\n",
       "    </tr>\n",
       "    <tr>\n",
       "      <th>99</th>\n",
       "      <td>81.0</td>\n",
       "      <td>100.0</td>\n",
       "    </tr>\n",
       "  </tbody>\n",
       "</table>\n",
       "<p>100 rows × 2 columns</p>\n",
       "</div>"
      ],
      "text/plain": [
       "    Observed  Expected\n",
       "0       99.0     100.0\n",
       "1       90.0     100.0\n",
       "2       93.0     100.0\n",
       "3       97.0     100.0\n",
       "4      104.0     100.0\n",
       "..       ...       ...\n",
       "95     114.0     100.0\n",
       "96      89.0     100.0\n",
       "97     111.0     100.0\n",
       "98      98.0     100.0\n",
       "99      81.0     100.0\n",
       "\n",
       "[100 rows x 2 columns]"
      ]
     },
     "execution_count": 19,
     "metadata": {},
     "output_type": "execute_result"
    }
   ],
   "source": [
    "expected_list = np.full(k, expected)\n",
    "chi_table = pd.DataFrame({\"Observed\" : observed, \"Expected\" : expected_list})\n",
    "chi_table"
   ]
  },
  {
   "cell_type": "code",
   "execution_count": 20,
   "id": "8e550cdc",
   "metadata": {},
   "outputs": [
    {
     "data": {
      "text/plain": [
       "Power_divergenceResult(statistic=112.53999999999999, pvalue=0.1495602607702584)"
      ]
     },
     "execution_count": 20,
     "metadata": {},
     "output_type": "execute_result"
    }
   ],
   "source": [
    "stats.chisquare(chi_table[\"Observed\"], chi_table[\"Expected\"], s)"
   ]
  },
  {
   "cell_type": "markdown",
   "id": "5fba7fc2",
   "metadata": {},
   "source": [
    "### Base station Chi-Square Test"
   ]
  },
  {
   "cell_type": "code",
   "execution_count": 21,
   "id": "038f5a96",
   "metadata": {
    "scrolled": false
   },
   "outputs": [
    {
     "data": {
      "text/html": [
       "<div>\n",
       "<style scoped>\n",
       "    .dataframe tbody tr th:only-of-type {\n",
       "        vertical-align: middle;\n",
       "    }\n",
       "\n",
       "    .dataframe tbody tr th {\n",
       "        vertical-align: top;\n",
       "    }\n",
       "\n",
       "    .dataframe thead th {\n",
       "        text-align: right;\n",
       "    }\n",
       "</style>\n",
       "<table border=\"1\" class=\"dataframe\">\n",
       "  <thead>\n",
       "    <tr style=\"text-align: right;\">\n",
       "      <th></th>\n",
       "      <th>Arrival no</th>\n",
       "      <th>Arrival time (sec)</th>\n",
       "      <th>Base station</th>\n",
       "      <th>Base station pair</th>\n",
       "      <th>Call duration (sec)</th>\n",
       "      <th>Call duration pair (sec)</th>\n",
       "      <th>velocity (km/h)</th>\n",
       "      <th>velocity pair (km/h)</th>\n",
       "      <th>inter-arrival time (sec)</th>\n",
       "      <th>inter-arrival time pair (sec)</th>\n",
       "    </tr>\n",
       "  </thead>\n",
       "  <tbody>\n",
       "    <tr>\n",
       "      <th>0</th>\n",
       "      <td>1</td>\n",
       "      <td>0.000</td>\n",
       "      <td>18</td>\n",
       "      <td>7.0</td>\n",
       "      <td>76.134</td>\n",
       "      <td>159.056</td>\n",
       "      <td>125.934</td>\n",
       "      <td>95.511</td>\n",
       "      <td>0.000</td>\n",
       "      <td>0.068</td>\n",
       "    </tr>\n",
       "    <tr>\n",
       "      <th>1</th>\n",
       "      <td>2</td>\n",
       "      <td>0.068</td>\n",
       "      <td>7</td>\n",
       "      <td>6.0</td>\n",
       "      <td>159.056</td>\n",
       "      <td>179.465</td>\n",
       "      <td>95.511</td>\n",
       "      <td>127.757</td>\n",
       "      <td>0.068</td>\n",
       "      <td>0.491</td>\n",
       "    </tr>\n",
       "    <tr>\n",
       "      <th>2</th>\n",
       "      <td>3</td>\n",
       "      <td>0.559</td>\n",
       "      <td>6</td>\n",
       "      <td>14.0</td>\n",
       "      <td>179.465</td>\n",
       "      <td>163.108</td>\n",
       "      <td>127.757</td>\n",
       "      <td>134.311</td>\n",
       "      <td>0.491</td>\n",
       "      <td>0.066</td>\n",
       "    </tr>\n",
       "    <tr>\n",
       "      <th>3</th>\n",
       "      <td>4</td>\n",
       "      <td>0.625</td>\n",
       "      <td>14</td>\n",
       "      <td>2.0</td>\n",
       "      <td>163.108</td>\n",
       "      <td>95.054</td>\n",
       "      <td>134.311</td>\n",
       "      <td>112.272</td>\n",
       "      <td>0.066</td>\n",
       "      <td>0.720</td>\n",
       "    </tr>\n",
       "    <tr>\n",
       "      <th>4</th>\n",
       "      <td>5</td>\n",
       "      <td>1.345</td>\n",
       "      <td>2</td>\n",
       "      <td>4.0</td>\n",
       "      <td>95.054</td>\n",
       "      <td>12.987</td>\n",
       "      <td>112.272</td>\n",
       "      <td>121.186</td>\n",
       "      <td>0.720</td>\n",
       "      <td>0.243</td>\n",
       "    </tr>\n",
       "  </tbody>\n",
       "</table>\n",
       "</div>"
      ],
      "text/plain": [
       "   Arrival no  Arrival time (sec)  Base station   Base station pair  \\\n",
       "0           1               0.000             18                7.0   \n",
       "1           2               0.068              7                6.0   \n",
       "2           3               0.559              6               14.0   \n",
       "3           4               0.625             14                2.0   \n",
       "4           5               1.345              2                4.0   \n",
       "\n",
       "   Call duration (sec)  Call duration pair (sec)  velocity (km/h)  \\\n",
       "0               76.134                   159.056          125.934   \n",
       "1              159.056                   179.465           95.511   \n",
       "2              179.465                   163.108          127.757   \n",
       "3              163.108                    95.054          134.311   \n",
       "4               95.054                    12.987          112.272   \n",
       "\n",
       "   velocity pair (km/h)  inter-arrival time (sec)  \\\n",
       "0                95.511                     0.000   \n",
       "1               127.757                     0.068   \n",
       "2               134.311                     0.491   \n",
       "3               112.272                     0.066   \n",
       "4               121.186                     0.720   \n",
       "\n",
       "   inter-arrival time pair (sec)  \n",
       "0                          0.068  \n",
       "1                          0.491  \n",
       "2                          0.066  \n",
       "3                          0.720  \n",
       "4                          0.243  "
      ]
     },
     "execution_count": 21,
     "metadata": {},
     "output_type": "execute_result"
    }
   ],
   "source": [
    "df.head()"
   ]
  },
  {
   "cell_type": "code",
   "execution_count": 22,
   "id": "d487c4c7",
   "metadata": {},
   "outputs": [],
   "source": [
    "n = 10000\n",
    "k = 20\n",
    "s = 2\n",
    "d = k - s - 1\n",
    "p = 1 / k\n",
    "expected = n * p\n",
    "start = 1\n",
    "end = 20"
   ]
  },
  {
   "cell_type": "code",
   "execution_count": 23,
   "id": "08fed1ca",
   "metadata": {},
   "outputs": [],
   "source": [
    "end_points = [0]\n",
    "\n",
    "for i in range(k - 1):\n",
    "    a = (i + 1) * p * (end - start) + start\n",
    "    end_points.append(a)\n",
    "    \n",
    "end_points.append(float('inf'))"
   ]
  },
  {
   "cell_type": "code",
   "execution_count": 24,
   "id": "de3e7ef4",
   "metadata": {},
   "outputs": [
    {
     "data": {
      "text/plain": [
       "array([512., 525., 446., 518., 460., 480., 545., 506., 494., 495., 483.,\n",
       "       494., 510., 488., 514., 493., 507., 476., 557., 497.])"
      ]
     },
     "execution_count": 24,
     "metadata": {},
     "output_type": "execute_result"
    }
   ],
   "source": [
    "observed = np.zeros(k)\n",
    "data = df.iloc[:,2]\n",
    "\n",
    "for i in range(1, len(end_points) + 1): # 1 to 101 instead of 0 to 100\n",
    "    for j in data:\n",
    "        if end_points[i - 1] <= j < end_points[i]:\n",
    "            observed[i - 1] += 1\n",
    "            \n",
    "observed"
   ]
  },
  {
   "cell_type": "code",
   "execution_count": 25,
   "id": "d022af2c",
   "metadata": {},
   "outputs": [
    {
     "data": {
      "text/html": [
       "<div>\n",
       "<style scoped>\n",
       "    .dataframe tbody tr th:only-of-type {\n",
       "        vertical-align: middle;\n",
       "    }\n",
       "\n",
       "    .dataframe tbody tr th {\n",
       "        vertical-align: top;\n",
       "    }\n",
       "\n",
       "    .dataframe thead th {\n",
       "        text-align: right;\n",
       "    }\n",
       "</style>\n",
       "<table border=\"1\" class=\"dataframe\">\n",
       "  <thead>\n",
       "    <tr style=\"text-align: right;\">\n",
       "      <th></th>\n",
       "      <th>Observed</th>\n",
       "      <th>Expected</th>\n",
       "    </tr>\n",
       "  </thead>\n",
       "  <tbody>\n",
       "    <tr>\n",
       "      <th>0</th>\n",
       "      <td>512.0</td>\n",
       "      <td>500.0</td>\n",
       "    </tr>\n",
       "    <tr>\n",
       "      <th>1</th>\n",
       "      <td>525.0</td>\n",
       "      <td>500.0</td>\n",
       "    </tr>\n",
       "    <tr>\n",
       "      <th>2</th>\n",
       "      <td>446.0</td>\n",
       "      <td>500.0</td>\n",
       "    </tr>\n",
       "    <tr>\n",
       "      <th>3</th>\n",
       "      <td>518.0</td>\n",
       "      <td>500.0</td>\n",
       "    </tr>\n",
       "    <tr>\n",
       "      <th>4</th>\n",
       "      <td>460.0</td>\n",
       "      <td>500.0</td>\n",
       "    </tr>\n",
       "    <tr>\n",
       "      <th>5</th>\n",
       "      <td>480.0</td>\n",
       "      <td>500.0</td>\n",
       "    </tr>\n",
       "    <tr>\n",
       "      <th>6</th>\n",
       "      <td>545.0</td>\n",
       "      <td>500.0</td>\n",
       "    </tr>\n",
       "    <tr>\n",
       "      <th>7</th>\n",
       "      <td>506.0</td>\n",
       "      <td>500.0</td>\n",
       "    </tr>\n",
       "    <tr>\n",
       "      <th>8</th>\n",
       "      <td>494.0</td>\n",
       "      <td>500.0</td>\n",
       "    </tr>\n",
       "    <tr>\n",
       "      <th>9</th>\n",
       "      <td>495.0</td>\n",
       "      <td>500.0</td>\n",
       "    </tr>\n",
       "    <tr>\n",
       "      <th>10</th>\n",
       "      <td>483.0</td>\n",
       "      <td>500.0</td>\n",
       "    </tr>\n",
       "    <tr>\n",
       "      <th>11</th>\n",
       "      <td>494.0</td>\n",
       "      <td>500.0</td>\n",
       "    </tr>\n",
       "    <tr>\n",
       "      <th>12</th>\n",
       "      <td>510.0</td>\n",
       "      <td>500.0</td>\n",
       "    </tr>\n",
       "    <tr>\n",
       "      <th>13</th>\n",
       "      <td>488.0</td>\n",
       "      <td>500.0</td>\n",
       "    </tr>\n",
       "    <tr>\n",
       "      <th>14</th>\n",
       "      <td>514.0</td>\n",
       "      <td>500.0</td>\n",
       "    </tr>\n",
       "    <tr>\n",
       "      <th>15</th>\n",
       "      <td>493.0</td>\n",
       "      <td>500.0</td>\n",
       "    </tr>\n",
       "    <tr>\n",
       "      <th>16</th>\n",
       "      <td>507.0</td>\n",
       "      <td>500.0</td>\n",
       "    </tr>\n",
       "    <tr>\n",
       "      <th>17</th>\n",
       "      <td>476.0</td>\n",
       "      <td>500.0</td>\n",
       "    </tr>\n",
       "    <tr>\n",
       "      <th>18</th>\n",
       "      <td>557.0</td>\n",
       "      <td>500.0</td>\n",
       "    </tr>\n",
       "    <tr>\n",
       "      <th>19</th>\n",
       "      <td>497.0</td>\n",
       "      <td>500.0</td>\n",
       "    </tr>\n",
       "  </tbody>\n",
       "</table>\n",
       "</div>"
      ],
      "text/plain": [
       "    Observed  Expected\n",
       "0      512.0     500.0\n",
       "1      525.0     500.0\n",
       "2      446.0     500.0\n",
       "3      518.0     500.0\n",
       "4      460.0     500.0\n",
       "5      480.0     500.0\n",
       "6      545.0     500.0\n",
       "7      506.0     500.0\n",
       "8      494.0     500.0\n",
       "9      495.0     500.0\n",
       "10     483.0     500.0\n",
       "11     494.0     500.0\n",
       "12     510.0     500.0\n",
       "13     488.0     500.0\n",
       "14     514.0     500.0\n",
       "15     493.0     500.0\n",
       "16     507.0     500.0\n",
       "17     476.0     500.0\n",
       "18     557.0     500.0\n",
       "19     497.0     500.0"
      ]
     },
     "execution_count": 25,
     "metadata": {},
     "output_type": "execute_result"
    }
   ],
   "source": [
    "expected_list = np.full(k, expected)\n",
    "chi_table = pd.DataFrame({\"Observed\" : observed, \"Expected\" : expected_list})\n",
    "chi_table"
   ]
  },
  {
   "cell_type": "code",
   "execution_count": 26,
   "id": "a79e4b82",
   "metadata": {},
   "outputs": [
    {
     "data": {
      "text/plain": [
       "Power_divergenceResult(statistic=25.656000000000002, pvalue=0.08096005132188358)"
      ]
     },
     "execution_count": 26,
     "metadata": {},
     "output_type": "execute_result"
    }
   ],
   "source": [
    "stats.chisquare(chi_table[\"Observed\"], chi_table[\"Expected\"], s)"
   ]
  },
  {
   "cell_type": "markdown",
   "id": "642df0f8",
   "metadata": {},
   "source": [
    "### Call duration Chi-Square Test"
   ]
  },
  {
   "cell_type": "code",
   "execution_count": 27,
   "id": "784d33c9",
   "metadata": {
    "scrolled": true
   },
   "outputs": [
    {
     "data": {
      "text/html": [
       "<div>\n",
       "<style scoped>\n",
       "    .dataframe tbody tr th:only-of-type {\n",
       "        vertical-align: middle;\n",
       "    }\n",
       "\n",
       "    .dataframe tbody tr th {\n",
       "        vertical-align: top;\n",
       "    }\n",
       "\n",
       "    .dataframe thead th {\n",
       "        text-align: right;\n",
       "    }\n",
       "</style>\n",
       "<table border=\"1\" class=\"dataframe\">\n",
       "  <thead>\n",
       "    <tr style=\"text-align: right;\">\n",
       "      <th></th>\n",
       "      <th>Arrival no</th>\n",
       "      <th>Arrival time (sec)</th>\n",
       "      <th>Base station</th>\n",
       "      <th>Base station pair</th>\n",
       "      <th>Call duration (sec)</th>\n",
       "      <th>Call duration pair (sec)</th>\n",
       "      <th>velocity (km/h)</th>\n",
       "      <th>velocity pair (km/h)</th>\n",
       "      <th>inter-arrival time (sec)</th>\n",
       "      <th>inter-arrival time pair (sec)</th>\n",
       "    </tr>\n",
       "  </thead>\n",
       "  <tbody>\n",
       "    <tr>\n",
       "      <th>0</th>\n",
       "      <td>1</td>\n",
       "      <td>0.000</td>\n",
       "      <td>18</td>\n",
       "      <td>7.0</td>\n",
       "      <td>76.134</td>\n",
       "      <td>159.056</td>\n",
       "      <td>125.934</td>\n",
       "      <td>95.511</td>\n",
       "      <td>0.000</td>\n",
       "      <td>0.068</td>\n",
       "    </tr>\n",
       "    <tr>\n",
       "      <th>1</th>\n",
       "      <td>2</td>\n",
       "      <td>0.068</td>\n",
       "      <td>7</td>\n",
       "      <td>6.0</td>\n",
       "      <td>159.056</td>\n",
       "      <td>179.465</td>\n",
       "      <td>95.511</td>\n",
       "      <td>127.757</td>\n",
       "      <td>0.068</td>\n",
       "      <td>0.491</td>\n",
       "    </tr>\n",
       "    <tr>\n",
       "      <th>2</th>\n",
       "      <td>3</td>\n",
       "      <td>0.559</td>\n",
       "      <td>6</td>\n",
       "      <td>14.0</td>\n",
       "      <td>179.465</td>\n",
       "      <td>163.108</td>\n",
       "      <td>127.757</td>\n",
       "      <td>134.311</td>\n",
       "      <td>0.491</td>\n",
       "      <td>0.066</td>\n",
       "    </tr>\n",
       "    <tr>\n",
       "      <th>3</th>\n",
       "      <td>4</td>\n",
       "      <td>0.625</td>\n",
       "      <td>14</td>\n",
       "      <td>2.0</td>\n",
       "      <td>163.108</td>\n",
       "      <td>95.054</td>\n",
       "      <td>134.311</td>\n",
       "      <td>112.272</td>\n",
       "      <td>0.066</td>\n",
       "      <td>0.720</td>\n",
       "    </tr>\n",
       "    <tr>\n",
       "      <th>4</th>\n",
       "      <td>5</td>\n",
       "      <td>1.345</td>\n",
       "      <td>2</td>\n",
       "      <td>4.0</td>\n",
       "      <td>95.054</td>\n",
       "      <td>12.987</td>\n",
       "      <td>112.272</td>\n",
       "      <td>121.186</td>\n",
       "      <td>0.720</td>\n",
       "      <td>0.243</td>\n",
       "    </tr>\n",
       "  </tbody>\n",
       "</table>\n",
       "</div>"
      ],
      "text/plain": [
       "   Arrival no  Arrival time (sec)  Base station   Base station pair  \\\n",
       "0           1               0.000             18                7.0   \n",
       "1           2               0.068              7                6.0   \n",
       "2           3               0.559              6               14.0   \n",
       "3           4               0.625             14                2.0   \n",
       "4           5               1.345              2                4.0   \n",
       "\n",
       "   Call duration (sec)  Call duration pair (sec)  velocity (km/h)  \\\n",
       "0               76.134                   159.056          125.934   \n",
       "1              159.056                   179.465           95.511   \n",
       "2              179.465                   163.108          127.757   \n",
       "3              163.108                    95.054          134.311   \n",
       "4               95.054                    12.987          112.272   \n",
       "\n",
       "   velocity pair (km/h)  inter-arrival time (sec)  \\\n",
       "0                95.511                     0.000   \n",
       "1               127.757                     0.068   \n",
       "2               134.311                     0.491   \n",
       "3               112.272                     0.066   \n",
       "4               121.186                     0.720   \n",
       "\n",
       "   inter-arrival time pair (sec)  \n",
       "0                          0.068  \n",
       "1                          0.491  \n",
       "2                          0.066  \n",
       "3                          0.720  \n",
       "4                          0.243  "
      ]
     },
     "execution_count": 27,
     "metadata": {},
     "output_type": "execute_result"
    }
   ],
   "source": [
    "df.head()"
   ]
  },
  {
   "cell_type": "code",
   "execution_count": 28,
   "id": "7bf07988",
   "metadata": {
    "scrolled": true
   },
   "outputs": [
    {
     "data": {
      "text/html": [
       "<div>\n",
       "<style scoped>\n",
       "    .dataframe tbody tr th:only-of-type {\n",
       "        vertical-align: middle;\n",
       "    }\n",
       "\n",
       "    .dataframe tbody tr th {\n",
       "        vertical-align: top;\n",
       "    }\n",
       "\n",
       "    .dataframe thead th {\n",
       "        text-align: right;\n",
       "    }\n",
       "</style>\n",
       "<table border=\"1\" class=\"dataframe\">\n",
       "  <thead>\n",
       "    <tr style=\"text-align: right;\">\n",
       "      <th></th>\n",
       "      <th>Arrival no</th>\n",
       "      <th>Arrival time (sec)</th>\n",
       "      <th>Base station</th>\n",
       "      <th>Base station pair</th>\n",
       "      <th>Call duration (sec)</th>\n",
       "      <th>Call duration pair (sec)</th>\n",
       "      <th>velocity (km/h)</th>\n",
       "      <th>velocity pair (km/h)</th>\n",
       "      <th>inter-arrival time (sec)</th>\n",
       "      <th>inter-arrival time pair (sec)</th>\n",
       "      <th>Call duration norm (sec)</th>\n",
       "    </tr>\n",
       "  </thead>\n",
       "  <tbody>\n",
       "    <tr>\n",
       "      <th>0</th>\n",
       "      <td>1</td>\n",
       "      <td>0.000</td>\n",
       "      <td>18</td>\n",
       "      <td>7.0</td>\n",
       "      <td>76.134</td>\n",
       "      <td>159.056</td>\n",
       "      <td>125.934</td>\n",
       "      <td>95.511</td>\n",
       "      <td>0.000</td>\n",
       "      <td>0.068</td>\n",
       "      <td>66.130</td>\n",
       "    </tr>\n",
       "    <tr>\n",
       "      <th>1</th>\n",
       "      <td>2</td>\n",
       "      <td>0.068</td>\n",
       "      <td>7</td>\n",
       "      <td>6.0</td>\n",
       "      <td>159.056</td>\n",
       "      <td>179.465</td>\n",
       "      <td>95.511</td>\n",
       "      <td>127.757</td>\n",
       "      <td>0.068</td>\n",
       "      <td>0.491</td>\n",
       "      <td>149.052</td>\n",
       "    </tr>\n",
       "    <tr>\n",
       "      <th>2</th>\n",
       "      <td>3</td>\n",
       "      <td>0.559</td>\n",
       "      <td>6</td>\n",
       "      <td>14.0</td>\n",
       "      <td>179.465</td>\n",
       "      <td>163.108</td>\n",
       "      <td>127.757</td>\n",
       "      <td>134.311</td>\n",
       "      <td>0.491</td>\n",
       "      <td>0.066</td>\n",
       "      <td>169.461</td>\n",
       "    </tr>\n",
       "    <tr>\n",
       "      <th>3</th>\n",
       "      <td>4</td>\n",
       "      <td>0.625</td>\n",
       "      <td>14</td>\n",
       "      <td>2.0</td>\n",
       "      <td>163.108</td>\n",
       "      <td>95.054</td>\n",
       "      <td>134.311</td>\n",
       "      <td>112.272</td>\n",
       "      <td>0.066</td>\n",
       "      <td>0.720</td>\n",
       "      <td>153.104</td>\n",
       "    </tr>\n",
       "    <tr>\n",
       "      <th>4</th>\n",
       "      <td>5</td>\n",
       "      <td>1.345</td>\n",
       "      <td>2</td>\n",
       "      <td>4.0</td>\n",
       "      <td>95.054</td>\n",
       "      <td>12.987</td>\n",
       "      <td>112.272</td>\n",
       "      <td>121.186</td>\n",
       "      <td>0.720</td>\n",
       "      <td>0.243</td>\n",
       "      <td>85.050</td>\n",
       "    </tr>\n",
       "  </tbody>\n",
       "</table>\n",
       "</div>"
      ],
      "text/plain": [
       "   Arrival no  Arrival time (sec)  Base station   Base station pair  \\\n",
       "0           1               0.000             18                7.0   \n",
       "1           2               0.068              7                6.0   \n",
       "2           3               0.559              6               14.0   \n",
       "3           4               0.625             14                2.0   \n",
       "4           5               1.345              2                4.0   \n",
       "\n",
       "   Call duration (sec)  Call duration pair (sec)  velocity (km/h)  \\\n",
       "0               76.134                   159.056          125.934   \n",
       "1              159.056                   179.465           95.511   \n",
       "2              179.465                   163.108          127.757   \n",
       "3              163.108                    95.054          134.311   \n",
       "4               95.054                    12.987          112.272   \n",
       "\n",
       "   velocity pair (km/h)  inter-arrival time (sec)  \\\n",
       "0                95.511                     0.000   \n",
       "1               127.757                     0.068   \n",
       "2               134.311                     0.491   \n",
       "3               112.272                     0.066   \n",
       "4               121.186                     0.720   \n",
       "\n",
       "   inter-arrival time pair (sec)  Call duration norm (sec)  \n",
       "0                          0.068                    66.130  \n",
       "1                          0.491                   149.052  \n",
       "2                          0.066                   169.461  \n",
       "3                          0.720                   153.104  \n",
       "4                          0.243                    85.050  "
      ]
     },
     "execution_count": 28,
     "metadata": {},
     "output_type": "execute_result"
    }
   ],
   "source": [
    "df[\"Call duration norm (sec)\"] = df[\"Call duration (sec)\"] - df[\"Call duration (sec)\"].min()\n",
    "df.head()"
   ]
  },
  {
   "cell_type": "code",
   "execution_count": 29,
   "id": "81476f34",
   "metadata": {
    "scrolled": true
   },
   "outputs": [
    {
     "data": {
      "text/plain": [
       "count    10000.000000\n",
       "mean        99.831897\n",
       "std         99.138915\n",
       "min          0.000000\n",
       "25%         28.773750\n",
       "50%         69.933500\n",
       "75%        138.105500\n",
       "max       1229.832000\n",
       "Name: Call duration norm (sec), dtype: float64"
      ]
     },
     "execution_count": 29,
     "metadata": {},
     "output_type": "execute_result"
    }
   ],
   "source": [
    "df[\"Call duration norm (sec)\"].describe()"
   ]
  },
  {
   "cell_type": "code",
   "execution_count": 30,
   "id": "6ea638df",
   "metadata": {},
   "outputs": [
    {
     "data": {
      "image/png": "[encoded data removed]",
      "text/plain": [
       "<Figure size 432x288 with 1 Axes>"
      ]
     },
     "metadata": {
      "needs_background": "light"
     },
     "output_type": "display_data"
    }
   ],
   "source": [
    "sb.histplot(data = df, x = \"Call duration norm (sec)\", bins = 100)\n",
    "plt.show()"
   ]
  },
  {
   "cell_type": "code",
   "execution_count": 31,
   "id": "e2b5fd5d",
   "metadata": {},
   "outputs": [],
   "source": [
    "n = 10000\n",
    "k = int(math.sqrt(n))\n",
    "s = 1\n",
    "d = k - s - 1\n",
    "p = 1 / k\n",
    "expected = n * p\n",
    "beta = 99.832"
   ]
  },
  {
   "cell_type": "code",
   "execution_count": 32,
   "id": "8a4089a5",
   "metadata": {},
   "outputs": [],
   "source": [
    "end_points = [0]\n",
    "\n",
    "for i in range(k - 1):\n",
    "    a = beta * np.log(1 / (1 - (i + 1) * p))\n",
    "    end_points.append(a)\n",
    "    \n",
    "end_points.append(float('inf'))"
   ]
  },
  {
   "cell_type": "code",
   "execution_count": 33,
   "id": "1fc9be0f",
   "metadata": {},
   "outputs": [
    {
     "data": {
      "text/plain": [
       "array([ 83.,  97., 108.,  98., 111., 100., 101.,  92., 110.,  91., 109.,\n",
       "       115., 101.,  99., 109.,  97., 106.,  87.,  94., 111.,  87.,  92.,\n",
       "        78., 117., 101., 107.,  99.,  96., 112.,  94.,  98., 112., 104.,\n",
       "       115.,  78.,  86.,  82.,  76., 112.,  86., 105.,  96., 103., 108.,\n",
       "       115.,  87., 106.,  99.,  90., 103., 103.,  90.,  93., 104., 100.,\n",
       "        99., 108., 101., 100.,  96., 130., 102., 111., 110.,  95., 111.,\n",
       "       113.,  88.,  93.,  87., 102., 103., 107., 100.,  98., 102.,  94.,\n",
       "       104.,  97., 100., 102., 106.,  94.,  85.,  91., 106.,  85., 100.,\n",
       "       122., 111.,  89., 100., 110.,  94.,  93., 101., 107., 113.,  94.,\n",
       "        93.])"
      ]
     },
     "execution_count": 33,
     "metadata": {},
     "output_type": "execute_result"
    }
   ],
   "source": [
    "observed = np.zeros(k)\n",
    "data = df[\"Call duration norm (sec)\"]\n",
    "\n",
    "for i in range(1, len(end_points) + 1): # 1 to 101 instead of 0 to 100\n",
    "    for j in data:\n",
    "        if end_points[i - 1] <= j < end_points[i]:\n",
    "            observed[i - 1] += 1\n",
    "            \n",
    "observed"
   ]
  },
  {
   "cell_type": "code",
   "execution_count": 34,
   "id": "adf97d55",
   "metadata": {},
   "outputs": [
    {
     "data": {
      "text/html": [
       "<div>\n",
       "<style scoped>\n",
       "    .dataframe tbody tr th:only-of-type {\n",
       "        vertical-align: middle;\n",
       "    }\n",
       "\n",
       "    .dataframe tbody tr th {\n",
       "        vertical-align: top;\n",
       "    }\n",
       "\n",
       "    .dataframe thead th {\n",
       "        text-align: right;\n",
       "    }\n",
       "</style>\n",
       "<table border=\"1\" class=\"dataframe\">\n",
       "  <thead>\n",
       "    <tr style=\"text-align: right;\">\n",
       "      <th></th>\n",
       "      <th>Observed</th>\n",
       "      <th>Expected</th>\n",
       "    </tr>\n",
       "  </thead>\n",
       "  <tbody>\n",
       "    <tr>\n",
       "      <th>0</th>\n",
       "      <td>83.0</td>\n",
       "      <td>100.0</td>\n",
       "    </tr>\n",
       "    <tr>\n",
       "      <th>1</th>\n",
       "      <td>97.0</td>\n",
       "      <td>100.0</td>\n",
       "    </tr>\n",
       "    <tr>\n",
       "      <th>2</th>\n",
       "      <td>108.0</td>\n",
       "      <td>100.0</td>\n",
       "    </tr>\n",
       "    <tr>\n",
       "      <th>3</th>\n",
       "      <td>98.0</td>\n",
       "      <td>100.0</td>\n",
       "    </tr>\n",
       "    <tr>\n",
       "      <th>4</th>\n",
       "      <td>111.0</td>\n",
       "      <td>100.0</td>\n",
       "    </tr>\n",
       "    <tr>\n",
       "      <th>...</th>\n",
       "      <td>...</td>\n",
       "      <td>...</td>\n",
       "    </tr>\n",
       "    <tr>\n",
       "      <th>95</th>\n",
       "      <td>101.0</td>\n",
       "      <td>100.0</td>\n",
       "    </tr>\n",
       "    <tr>\n",
       "      <th>96</th>\n",
       "      <td>107.0</td>\n",
       "      <td>100.0</td>\n",
       "    </tr>\n",
       "    <tr>\n",
       "      <th>97</th>\n",
       "      <td>113.0</td>\n",
       "      <td>100.0</td>\n",
       "    </tr>\n",
       "    <tr>\n",
       "      <th>98</th>\n",
       "      <td>94.0</td>\n",
       "      <td>100.0</td>\n",
       "    </tr>\n",
       "    <tr>\n",
       "      <th>99</th>\n",
       "      <td>93.0</td>\n",
       "      <td>100.0</td>\n",
       "    </tr>\n",
       "  </tbody>\n",
       "</table>\n",
       "<p>100 rows × 2 columns</p>\n",
       "</div>"
      ],
      "text/plain": [
       "    Observed  Expected\n",
       "0       83.0     100.0\n",
       "1       97.0     100.0\n",
       "2      108.0     100.0\n",
       "3       98.0     100.0\n",
       "4      111.0     100.0\n",
       "..       ...       ...\n",
       "95     101.0     100.0\n",
       "96     107.0     100.0\n",
       "97     113.0     100.0\n",
       "98      94.0     100.0\n",
       "99      93.0     100.0\n",
       "\n",
       "[100 rows x 2 columns]"
      ]
     },
     "execution_count": 34,
     "metadata": {},
     "output_type": "execute_result"
    }
   ],
   "source": [
    "expected_list = np.full(k, expected)\n",
    "chi_table = pd.DataFrame({\"Observed\" : observed, \"Expected\" : expected_list})\n",
    "chi_table"
   ]
  },
  {
   "cell_type": "code",
   "execution_count": 35,
   "id": "028f52bd",
   "metadata": {},
   "outputs": [
    {
     "data": {
      "text/plain": [
       "Power_divergenceResult(statistic=97.55999999999997, pvalue=0.4935436856180209)"
      ]
     },
     "execution_count": 35,
     "metadata": {},
     "output_type": "execute_result"
    }
   ],
   "source": [
    "stats.chisquare(chi_table[\"Observed\"], chi_table[\"Expected\"], s)"
   ]
  },
  {
   "cell_type": "markdown",
   "id": "2e3602aa",
   "metadata": {},
   "source": [
    "### Velocity Chi-Square Test"
   ]
  },
  {
   "cell_type": "code",
   "execution_count": 36,
   "id": "ce6401f2",
   "metadata": {},
   "outputs": [
    {
     "data": {
      "text/html": [
       "<div>\n",
       "<style scoped>\n",
       "    .dataframe tbody tr th:only-of-type {\n",
       "        vertical-align: middle;\n",
       "    }\n",
       "\n",
       "    .dataframe tbody tr th {\n",
       "        vertical-align: top;\n",
       "    }\n",
       "\n",
       "    .dataframe thead th {\n",
       "        text-align: right;\n",
       "    }\n",
       "</style>\n",
       "<table border=\"1\" class=\"dataframe\">\n",
       "  <thead>\n",
       "    <tr style=\"text-align: right;\">\n",
       "      <th></th>\n",
       "      <th>Arrival no</th>\n",
       "      <th>Arrival time (sec)</th>\n",
       "      <th>Base station</th>\n",
       "      <th>Base station pair</th>\n",
       "      <th>Call duration (sec)</th>\n",
       "      <th>Call duration pair (sec)</th>\n",
       "      <th>velocity (km/h)</th>\n",
       "      <th>velocity pair (km/h)</th>\n",
       "      <th>inter-arrival time (sec)</th>\n",
       "      <th>inter-arrival time pair (sec)</th>\n",
       "      <th>Call duration norm (sec)</th>\n",
       "    </tr>\n",
       "  </thead>\n",
       "  <tbody>\n",
       "    <tr>\n",
       "      <th>0</th>\n",
       "      <td>1</td>\n",
       "      <td>0.000</td>\n",
       "      <td>18</td>\n",
       "      <td>7.0</td>\n",
       "      <td>76.134</td>\n",
       "      <td>159.056</td>\n",
       "      <td>125.934</td>\n",
       "      <td>95.511</td>\n",
       "      <td>0.000</td>\n",
       "      <td>0.068</td>\n",
       "      <td>66.130</td>\n",
       "    </tr>\n",
       "    <tr>\n",
       "      <th>1</th>\n",
       "      <td>2</td>\n",
       "      <td>0.068</td>\n",
       "      <td>7</td>\n",
       "      <td>6.0</td>\n",
       "      <td>159.056</td>\n",
       "      <td>179.465</td>\n",
       "      <td>95.511</td>\n",
       "      <td>127.757</td>\n",
       "      <td>0.068</td>\n",
       "      <td>0.491</td>\n",
       "      <td>149.052</td>\n",
       "    </tr>\n",
       "    <tr>\n",
       "      <th>2</th>\n",
       "      <td>3</td>\n",
       "      <td>0.559</td>\n",
       "      <td>6</td>\n",
       "      <td>14.0</td>\n",
       "      <td>179.465</td>\n",
       "      <td>163.108</td>\n",
       "      <td>127.757</td>\n",
       "      <td>134.311</td>\n",
       "      <td>0.491</td>\n",
       "      <td>0.066</td>\n",
       "      <td>169.461</td>\n",
       "    </tr>\n",
       "    <tr>\n",
       "      <th>3</th>\n",
       "      <td>4</td>\n",
       "      <td>0.625</td>\n",
       "      <td>14</td>\n",
       "      <td>2.0</td>\n",
       "      <td>163.108</td>\n",
       "      <td>95.054</td>\n",
       "      <td>134.311</td>\n",
       "      <td>112.272</td>\n",
       "      <td>0.066</td>\n",
       "      <td>0.720</td>\n",
       "      <td>153.104</td>\n",
       "    </tr>\n",
       "    <tr>\n",
       "      <th>4</th>\n",
       "      <td>5</td>\n",
       "      <td>1.345</td>\n",
       "      <td>2</td>\n",
       "      <td>4.0</td>\n",
       "      <td>95.054</td>\n",
       "      <td>12.987</td>\n",
       "      <td>112.272</td>\n",
       "      <td>121.186</td>\n",
       "      <td>0.720</td>\n",
       "      <td>0.243</td>\n",
       "      <td>85.050</td>\n",
       "    </tr>\n",
       "  </tbody>\n",
       "</table>\n",
       "</div>"
      ],
      "text/plain": [
       "   Arrival no  Arrival time (sec)  Base station   Base station pair  \\\n",
       "0           1               0.000             18                7.0   \n",
       "1           2               0.068              7                6.0   \n",
       "2           3               0.559              6               14.0   \n",
       "3           4               0.625             14                2.0   \n",
       "4           5               1.345              2                4.0   \n",
       "\n",
       "   Call duration (sec)  Call duration pair (sec)  velocity (km/h)  \\\n",
       "0               76.134                   159.056          125.934   \n",
       "1              159.056                   179.465           95.511   \n",
       "2              179.465                   163.108          127.757   \n",
       "3              163.108                    95.054          134.311   \n",
       "4               95.054                    12.987          112.272   \n",
       "\n",
       "   velocity pair (km/h)  inter-arrival time (sec)  \\\n",
       "0                95.511                     0.000   \n",
       "1               127.757                     0.068   \n",
       "2               134.311                     0.491   \n",
       "3               112.272                     0.066   \n",
       "4               121.186                     0.720   \n",
       "\n",
       "   inter-arrival time pair (sec)  Call duration norm (sec)  \n",
       "0                          0.068                    66.130  \n",
       "1                          0.491                   149.052  \n",
       "2                          0.066                   169.461  \n",
       "3                          0.720                   153.104  \n",
       "4                          0.243                    85.050  "
      ]
     },
     "execution_count": 36,
     "metadata": {},
     "output_type": "execute_result"
    }
   ],
   "source": [
    "df.head()"
   ]
  },
  {
   "cell_type": "code",
   "execution_count": 37,
   "id": "b8a2e459",
   "metadata": {},
   "outputs": [],
   "source": [
    "n = 10000\n",
    "k = int(math.sqrt(n))\n",
    "s = 2\n",
    "d = k - s - 1\n",
    "p = 1 / k\n",
    "expected = n * p\n",
    "mean = 120.072\n",
    "std = df[\"velocity (km/h)\"].std()"
   ]
  },
  {
   "cell_type": "code",
   "execution_count": 38,
   "id": "760a6aec",
   "metadata": {},
   "outputs": [],
   "source": [
    "end_points = [0]\n",
    "norm = NormalDist(mu = mean, sigma = std)\n",
    "\n",
    "for i in range(k - 1):\n",
    "    a = norm.inv_cdf((i + 1) * p)\n",
    "    end_points.append(a)\n",
    "    \n",
    "end_points.append(float('inf'))"
   ]
  },
  {
   "cell_type": "code",
   "execution_count": 39,
   "id": "e4d09d16",
   "metadata": {},
   "outputs": [
    {
     "data": {
      "text/plain": [
       "array([101.,  86., 110.,  95., 100., 116.,  94.,  97.,  81., 106., 103.,\n",
       "        98.,  94.,  79., 114., 100., 108.,  89., 106., 111., 112., 107.,\n",
       "       106., 114., 103., 106., 120., 100.,  88., 113.,  84.,  91., 104.,\n",
       "        98., 102.,  92.,  94.,  90., 113., 103.,  93.,  97.,  93., 119.,\n",
       "       103.,  89., 108., 105.,  88., 105.,  98.,  93.,  97.,  90., 100.,\n",
       "       107.,  85., 116.,  97.,  95., 121.,  88.,  94.,  87., 101., 105.,\n",
       "       102.,  96.,  90., 107.,  77., 109., 104., 103., 100., 113.,  90.,\n",
       "        95.,  96., 114.,  97., 103.,  91., 106.,  96., 108.,  87.,  93.,\n",
       "       113.,  99., 116., 120.,  95.,  98.,  90.,  86.,  84., 100., 113.,\n",
       "       107.])"
      ]
     },
     "execution_count": 39,
     "metadata": {},
     "output_type": "execute_result"
    }
   ],
   "source": [
    "observed = np.zeros(k)\n",
    "data = df[\"velocity (km/h)\"]\n",
    "\n",
    "for i in range(1, len(end_points) + 1): # 1 to 101 instead of 0 to 100\n",
    "    for j in data:\n",
    "        if end_points[i - 1] <= j < end_points[i]:\n",
    "            observed[i - 1] += 1\n",
    "            \n",
    "observed"
   ]
  },
  {
   "cell_type": "code",
   "execution_count": 40,
   "id": "cae83df0",
   "metadata": {},
   "outputs": [
    {
     "data": {
      "text/html": [
       "<div>\n",
       "<style scoped>\n",
       "    .dataframe tbody tr th:only-of-type {\n",
       "        vertical-align: middle;\n",
       "    }\n",
       "\n",
       "    .dataframe tbody tr th {\n",
       "        vertical-align: top;\n",
       "    }\n",
       "\n",
       "    .dataframe thead th {\n",
       "        text-align: right;\n",
       "    }\n",
       "</style>\n",
       "<table border=\"1\" class=\"dataframe\">\n",
       "  <thead>\n",
       "    <tr style=\"text-align: right;\">\n",
       "      <th></th>\n",
       "      <th>Observed</th>\n",
       "      <th>Expected</th>\n",
       "    </tr>\n",
       "  </thead>\n",
       "  <tbody>\n",
       "    <tr>\n",
       "      <th>0</th>\n",
       "      <td>101.0</td>\n",
       "      <td>100.0</td>\n",
       "    </tr>\n",
       "    <tr>\n",
       "      <th>1</th>\n",
       "      <td>86.0</td>\n",
       "      <td>100.0</td>\n",
       "    </tr>\n",
       "    <tr>\n",
       "      <th>2</th>\n",
       "      <td>110.0</td>\n",
       "      <td>100.0</td>\n",
       "    </tr>\n",
       "    <tr>\n",
       "      <th>3</th>\n",
       "      <td>95.0</td>\n",
       "      <td>100.0</td>\n",
       "    </tr>\n",
       "    <tr>\n",
       "      <th>4</th>\n",
       "      <td>100.0</td>\n",
       "      <td>100.0</td>\n",
       "    </tr>\n",
       "    <tr>\n",
       "      <th>...</th>\n",
       "      <td>...</td>\n",
       "      <td>...</td>\n",
       "    </tr>\n",
       "    <tr>\n",
       "      <th>95</th>\n",
       "      <td>86.0</td>\n",
       "      <td>100.0</td>\n",
       "    </tr>\n",
       "    <tr>\n",
       "      <th>96</th>\n",
       "      <td>84.0</td>\n",
       "      <td>100.0</td>\n",
       "    </tr>\n",
       "    <tr>\n",
       "      <th>97</th>\n",
       "      <td>100.0</td>\n",
       "      <td>100.0</td>\n",
       "    </tr>\n",
       "    <tr>\n",
       "      <th>98</th>\n",
       "      <td>113.0</td>\n",
       "      <td>100.0</td>\n",
       "    </tr>\n",
       "    <tr>\n",
       "      <th>99</th>\n",
       "      <td>107.0</td>\n",
       "      <td>100.0</td>\n",
       "    </tr>\n",
       "  </tbody>\n",
       "</table>\n",
       "<p>100 rows × 2 columns</p>\n",
       "</div>"
      ],
      "text/plain": [
       "    Observed  Expected\n",
       "0      101.0     100.0\n",
       "1       86.0     100.0\n",
       "2      110.0     100.0\n",
       "3       95.0     100.0\n",
       "4      100.0     100.0\n",
       "..       ...       ...\n",
       "95      86.0     100.0\n",
       "96      84.0     100.0\n",
       "97     100.0     100.0\n",
       "98     113.0     100.0\n",
       "99     107.0     100.0\n",
       "\n",
       "[100 rows x 2 columns]"
      ]
     },
     "execution_count": 40,
     "metadata": {},
     "output_type": "execute_result"
    }
   ],
   "source": [
    "expected_list = np.full(k, expected)\n",
    "chi_table = pd.DataFrame({\"Observed\" : observed, \"Expected\" : expected_list})\n",
    "chi_table"
   ]
  },
  {
   "cell_type": "code",
   "execution_count": 41,
   "id": "23afed14",
   "metadata": {},
   "outputs": [
    {
     "data": {
      "text/plain": [
       "Power_divergenceResult(statistic=97.35999999999999, pvalue=0.4706296267011268)"
      ]
     },
     "execution_count": 41,
     "metadata": {},
     "output_type": "execute_result"
    }
   ],
   "source": [
    "stats.chisquare(chi_table[\"Observed\"], chi_table[\"Expected\"], s)"
   ]
  },
  {
   "cell_type": "code",
   "execution_count": null,
   "id": "a2a48195",
   "metadata": {},
   "outputs": [],
   "source": []
  }
 ],
 "metadata": {
  "kernelspec": {
   "display_name": "Python 3 (ipykernel)",
   "language": "python",
   "name": "python3"
  },
  "language_info": {
   "codemirror_mode": {
    "name": "ipython",
    "version": 3
   },
   "file_extension": ".py",
   "mimetype": "text/x-python",
   "name": "python",
   "nbconvert_exporter": "python",
   "pygments_lexer": "ipython3",
   "version": "3.9.7"
  }
 },
 "nbformat": 4,
 "nbformat_minor": 5
}
